{
 "cells": [
  {
   "cell_type": "markdown",
   "metadata": {},
   "source": [
    "# <center> Visualize Individual Possible Trip Route\n",
    "<img src=\"https://github.com/Ray800413/Trip_Route_Visualization/blob/master/image/route.jpg?raw=true\">"
   ]
  },
  {
   "cell_type": "markdown",
   "metadata": {},
   "source": [
    "## 1. Introduction\n",
    "This notebook shows how to visualize individual possible trip route based on the data derived from the General Transit Feed Specification(GTFS) data. This notebook is one piece of deliverables for the project called **\"Predict Individual Possible Trip\"**. If you want to get more information about this project, please contact me via this email address: lin00297@umn.edu"
   ]
  },
  {
   "cell_type": "code",
   "execution_count": 1,
   "metadata": {},
   "outputs": [],
   "source": [
    "# Import modules\n",
    "import os\n",
    "import random\n",
    "import folium\n",
    "import warnings\n",
    "import pandas as pd\n",
    "\n",
    "from geopandas import GeoDataFrame\n",
    "from shapely.geometry import LineString\n",
    "warnings.simplefilter(\"ignore\")"
   ]
  },
  {
   "cell_type": "markdown",
   "metadata": {},
   "source": [
    "## 2. Workflow\n",
    "### 2.1 Create a dataframe containing individual possible trips' ID and all the stops coordinates within a trip"
   ]
  },
  {
   "cell_type": "markdown",
   "metadata": {},
   "source": [
    "In order to visualize individual possible trip(s), the first step is to get the coordinates information of all the stops within a trip. To do so, we merged \"trip\", \"stop_time\", and \"stops\" tables and then sliced out the needed columns."
   ]
  },
  {
   "cell_type": "code",
   "execution_count": 2,
   "metadata": {},
   "outputs": [
    {
     "data": {
      "text/html": [
       "<div>\n",
       "<style scoped>\n",
       "    .dataframe tbody tr th:only-of-type {\n",
       "        vertical-align: middle;\n",
       "    }\n",
       "\n",
       "    .dataframe tbody tr th {\n",
       "        vertical-align: top;\n",
       "    }\n",
       "\n",
       "    .dataframe thead th {\n",
       "        text-align: right;\n",
       "    }\n",
       "</style>\n",
       "<table border=\"1\" class=\"dataframe\">\n",
       "  <thead>\n",
       "    <tr style=\"text-align: right;\">\n",
       "      <th></th>\n",
       "      <th>trip_id</th>\n",
       "      <th>stop_lat</th>\n",
       "      <th>stop_lon</th>\n",
       "    </tr>\n",
       "  </thead>\n",
       "  <tbody>\n",
       "    <tr>\n",
       "      <th>0</th>\n",
       "      <td>8847474-DEC15-MVS-BUS-Weekday-01</td>\n",
       "      <td>44.932478</td>\n",
       "      <td>-93.343189</td>\n",
       "    </tr>\n",
       "  </tbody>\n",
       "</table>\n",
       "</div>"
      ],
      "text/plain": [
       "                            trip_id   stop_lat   stop_lon\n",
       "0  8847474-DEC15-MVS-BUS-Weekday-01  44.932478 -93.343189"
      ]
     },
     "execution_count": 2,
     "metadata": {},
     "output_type": "execute_result"
    }
   ],
   "source": [
    "# Create paths to the files that are going to be merged\n",
    "trip = os.path.join(\"data/3-6\", \"trips.txt\")\n",
    "stop_time = os.path.join(\"data/3-6\", \"stop_times.txt\")\n",
    "stop = os.path.join(\"data/3-6\", \"stops.txt\")\n",
    "\n",
    "# Read the files into dataframe\n",
    "df1 = pd.read_csv(trip, low_memory = False)\n",
    "df2 = pd.read_csv(stop_time, low_memory = False)\n",
    "df3 = pd.read_csv(stop, low_memory = False)\n",
    "\n",
    "# Merge the first two dataframes\n",
    "merge_1 = pd.merge(df1, df2, on =\"trip_id\", how = \"left\" )\n",
    "\n",
    "# Merge the third dataframe\n",
    "merge_2 = pd.merge(merge_1, df3, on = \"stop_id\", how = \"left\")\n",
    "\n",
    "# Slice out the desired columns\n",
    "slice1 = merge_2[[\"trip_id\", \"stop_lat\", \"stop_lon\"]]\n",
    "# Check the result\n",
    "slice1.head(1)"
   ]
  },
  {
   "cell_type": "markdown",
   "metadata": {},
   "source": [
    "### 2.2 Create lists to store needed information"
   ]
  },
  {
   "cell_type": "markdown",
   "metadata": {},
   "source": [
    "Next, we read the individual possible trip table. There are several needed information we need to derive from this table, which are:\n",
    "> 1. Individual Possible Trip ID\n",
    "2. Individual Original Place coordinates\n",
    "3. Individual Geton Stop coordinates and names\n",
    "4. Individual Getoff Stop coordinates and names\n",
    "5. Individual Boarding Place coordinates"
   ]
  },
  {
   "cell_type": "code",
   "execution_count": 3,
   "metadata": {},
   "outputs": [
    {
     "data": {
      "text/html": [
       "<div>\n",
       "<style scoped>\n",
       "    .dataframe tbody tr th:only-of-type {\n",
       "        vertical-align: middle;\n",
       "    }\n",
       "\n",
       "    .dataframe tbody tr th {\n",
       "        vertical-align: top;\n",
       "    }\n",
       "\n",
       "    .dataframe thead th {\n",
       "        text-align: right;\n",
       "    }\n",
       "</style>\n",
       "<table border=\"1\" class=\"dataframe\">\n",
       "  <thead>\n",
       "    <tr style=\"text-align: right;\">\n",
       "      <th></th>\n",
       "      <th>Unnamed: 0</th>\n",
       "      <th>indivi_id</th>\n",
       "      <th>route_id</th>\n",
       "      <th>route_short_name</th>\n",
       "      <th>stop_lat_x</th>\n",
       "      <th>stop_lon_x</th>\n",
       "      <th>stop_lat_y</th>\n",
       "      <th>stop_lon_y</th>\n",
       "      <th>stop_id_x</th>\n",
       "      <th>stop_id_y</th>\n",
       "      <th>stop_name_x</th>\n",
       "      <th>stop_name_y</th>\n",
       "      <th>DATE</th>\n",
       "      <th>BOARDING_LON</th>\n",
       "      <th>BOARDING_LAT</th>\n",
       "      <th>ORIGIN_LAT_100M</th>\n",
       "      <th>ORIGIN_LON_100M</th>\n",
       "      <th>trip_id</th>\n",
       "      <th>arrival_time</th>\n",
       "    </tr>\n",
       "  </thead>\n",
       "  <tbody>\n",
       "    <tr>\n",
       "      <th>0</th>\n",
       "      <td>0</td>\n",
       "      <td>1</td>\n",
       "      <td>6-81</td>\n",
       "      <td>6</td>\n",
       "      <td>44.979544</td>\n",
       "      <td>-93.272558</td>\n",
       "      <td>44.948272</td>\n",
       "      <td>-93.298208</td>\n",
       "      <td>17947</td>\n",
       "      <td>1322</td>\n",
       "      <td>Hennepin Ave &amp; 5th St S</td>\n",
       "      <td>Hennepin Ave &amp; Lake St W</td>\n",
       "      <td>2016-04-11 00:00:00</td>\n",
       "      <td>-93.273144</td>\n",
       "      <td>44.980003</td>\n",
       "      <td>44.948</td>\n",
       "      <td>-93.299</td>\n",
       "      <td>9181751-MAR16-MVS-BUS-Weekday-01,9181753-MAR16...</td>\n",
       "      <td>12:29:00,12:49:00,12:19:00,12:39:00,12:59:00</td>\n",
       "    </tr>\n",
       "  </tbody>\n",
       "</table>\n",
       "</div>"
      ],
      "text/plain": [
       "   Unnamed: 0  indivi_id route_id  route_short_name  stop_lat_x  stop_lon_x  \\\n",
       "0           0          1     6-81                 6   44.979544  -93.272558   \n",
       "\n",
       "   stop_lat_y  stop_lon_y  stop_id_x  stop_id_y              stop_name_x  \\\n",
       "0   44.948272  -93.298208      17947       1322  Hennepin Ave & 5th St S   \n",
       "\n",
       "                stop_name_y                 DATE  BOARDING_LON  BOARDING_LAT  \\\n",
       "0  Hennepin Ave & Lake St W  2016-04-11 00:00:00    -93.273144     44.980003   \n",
       "\n",
       "   ORIGIN_LAT_100M  ORIGIN_LON_100M  \\\n",
       "0           44.948          -93.299   \n",
       "\n",
       "                                             trip_id  \\\n",
       "0  9181751-MAR16-MVS-BUS-Weekday-01,9181753-MAR16...   \n",
       "\n",
       "                                   arrival_time  \n",
       "0  12:29:00,12:49:00,12:19:00,12:39:00,12:59:00  "
      ]
     },
     "execution_count": 3,
     "metadata": {},
     "output_type": "execute_result"
    }
   ],
   "source": [
    "# Read the individual possible trip table\n",
    "df6 = pd.read_csv(\"data/individual_10.csv\", low_memory = False)\n",
    "df6.head(1)"
   ]
  },
  {
   "cell_type": "markdown",
   "metadata": {},
   "source": [
    "We created several list to store these information"
   ]
  },
  {
   "cell_type": "code",
   "execution_count": 4,
   "metadata": {},
   "outputs": [],
   "source": [
    "# Create a list to store trip id of individual possible trip\n",
    "trip_lst = [[df6.at[index, \"trip_id\"]] for index, row in df6.iterrows()]\n",
    "# Create a list to store coordinates of geton stops\n",
    "geton_stop_lst = [(df6.at[index,\"stop_lat_y\"], df6.at[index,\"stop_lon_y\"])for index, row in df6.iterrows()]\n",
    "# Create a list to store coordinates of getoff stops\n",
    "getoff_stop_lst = [(df6.at[index,\"stop_lat_x\"], df6.at[index,\"stop_lon_x\"])for index, row in df6.iterrows()]\n",
    "# Create a list to store coordinates of individual original place\n",
    "origin_lst = [(df6.at[index,\"ORIGIN_LAT_100M\"], df6.at[index,\"ORIGIN_LON_100M\"])for index, row in df6.iterrows()]\n",
    "# Create a list to store coordinates of individual boarding place\n",
    "board_lst = [(df6.at[index,\"BOARDING_LAT\"], df6.at[index,\"BOARDING_LON\"])for index, row in df6.iterrows()]\n",
    "# Create a list to store names of geton stops\n",
    "geton_stop_name = [df6.at[index, \"stop_name_y\"] for index, row in df6.iterrows()]\n",
    "# Create a list to store names of geoff stops\n",
    "getoff_stop_name = [df6.at[index, \"stop_name_x\"] for index, row in df6.iterrows()]"
   ]
  },
  {
   "cell_type": "markdown",
   "metadata": {},
   "source": [
    "### 2.3 Slice out stops' latitute and longitude based on individual trip id"
   ]
  },
  {
   "cell_type": "markdown",
   "metadata": {},
   "source": [
    "Since an individual might take multiple trips, we decided to create GeoJSON object of each possible trip, enabling user to toggle between different possible trips. To do so, we first extract all the stops' coordinates within a possible trip, then using \"LineString\" function to create a line geometry in Json format, and finally created a dataframe to store this line object. "
   ]
  },
  {
   "cell_type": "markdown",
   "metadata": {},
   "source": [
    "- We define a function to automatically extract individual possible trips' ID out from the original table and then based on trip ID to find all the stops' coordinates within the trip. "
   ]
  },
  {
   "cell_type": "code",
   "execution_count": 5,
   "metadata": {},
   "outputs": [],
   "source": [
    "# Return a dataframe containing individual possible trips and the corresponding stops' coordinates of each trip\n",
    "def individual_trips(i):\n",
    "    global trip_lst, slice1\n",
    "    \n",
    "    # Split out each trip_id using delimiter \",\"\n",
    "    possbile_trips = trip_lst[i][0].split(\",\")\n",
    "    # Slice out the rows based on trip_id\n",
    "    lst = [slice1.loc[slice1[\"trip_id\"] == trip] for trip in possbile_trips] \n",
    "    # Concatenat series \n",
    "    df = pd.concat(lst).reset_index(drop = True)\n",
    "    \n",
    "    return df "
   ]
  },
  {
   "cell_type": "markdown",
   "metadata": {},
   "source": [
    "Next, we defined a function to automatically create a dataframe containing the line geometry representing all the stops in a trip."
   ]
  },
  {
   "cell_type": "code",
   "execution_count": 6,
   "metadata": {},
   "outputs": [],
   "source": [
    "# Create a line dataframe containing the line geometry representing trip\n",
    "def make_lines(i, t):\n",
    "    global trip_lst\n",
    "    \n",
    "    # Put the set of stops' coordinates of a trip into a list\n",
    "    lst = list(zip(list(individual_trips(i).loc[individual_trips(i).trip_id == trip_lst[i][0].split(\",\")[t]].stop_lon), \n",
    "                   list(individual_trips(i).loc[individual_trips(i).trip_id == trip_lst[i][0].split(\",\")[t]].stop_lat)))\n",
    "    \n",
    "    # Create a linestring object\n",
    "    line = LineString(lst)\n",
    "    \n",
    "    # Create a dataframe containing line geometry \n",
    "    data = {\"id\":i+1, \"geometry\":[line]}\n",
    "    df_line = pd.DataFrame(data, columns = [\"id\", \"geometry\"])\n",
    "    df_line[\"id\"] = df_line[\"id\"].astype(\"int\") # Convert data type of \"id\" to integer\n",
    "    \n",
    "    return df_line"
   ]
  },
  {
   "cell_type": "markdown",
   "metadata": {},
   "source": [
    "Then, we defined a function to automatically count how many possible trips the individual has. Based on the previous defined function, a set of dataframes are created and then are appended to a list. Each element in this list is a dataframe representing a possible trip."
   ]
  },
  {
   "cell_type": "code",
   "execution_count": 7,
   "metadata": {},
   "outputs": [],
   "source": [
    "# Create a list to store a set of line dataframes\n",
    "def line_df(i):\n",
    "    df_lst = []\n",
    "    for t in range(len(trip_lst[i][0].split(\",\"))):\n",
    "        df = make_lines(i, t)\n",
    "        df_lst.append(df)\n",
    "    return df_lst"
   ]
  },
  {
   "cell_type": "markdown",
   "metadata": {},
   "source": [
    "Since we also want to visualize individual trip route, we defined a function to return a list containing the coordinates of individual original place, boarding place, and stops between geton and getoff stops."
   ]
  },
  {
   "cell_type": "code",
   "execution_count": 8,
   "metadata": {},
   "outputs": [],
   "source": [
    "# Create a list to store coordinates of individual original place, boarding place, and stops between geton and getoff stops\n",
    "def make_individual_lines(i):\n",
    "    global trip_lst, geton_stop_lst, getoff_stop_lst, origin_lst, board_lst\n",
    "    \n",
    "    # Put the set of stops' coordinates of a trip into a list\n",
    "    lst = list(zip(list(individual_trips(i).loc[individual_trips(i).trip_id == trip_lst[i][0].split(\",\")[0]].stop_lat), \n",
    "                   list(individual_trips(i).loc[individual_trips(i).trip_id == trip_lst[i][0].split(\",\")[0]].stop_lon)))\n",
    "    \n",
    "    # Execlude the stops prior geton stop\n",
    "    for e in range(len(lst)):\n",
    "        if lst[e][0] == geton_stop_lst[i][0] or lst[e][1] == geton_stop_lst[i][1]:\n",
    "            new = lst[e:]\n",
    "    \n",
    "    # Execlude the stops after getoff stop\n",
    "    for f in range(len(new)):\n",
    "        if new[f][0] == getoff_stop_lst[i][0] or new[f][1] == getoff_stop_lst[i][1]:\n",
    "            new1 = new[:f+1]\n",
    "    \n",
    "    # Insert the origin and append the board       \n",
    "    new1.insert(0, origin_lst[i])\n",
    "    new1.append(board_lst[i])\n",
    "    \n",
    "    return new1"
   ]
  },
  {
   "cell_type": "markdown",
   "metadata": {},
   "source": [
    "Finally, we defined a function to create to visualize information we are interested in. This function take the list containing dataframe representing possible trip and converted it to a geodataframe, enabling folium \"GeoJson\" function to read it directly. It also visualize individual trip route by using folium \"Polyline\" function. The individual original place, geton stop, getoff stop, and boarding place are also visualized as the circle markers on the map. This function also allows user to input the specific individual they want to look at. "
   ]
  },
  {
   "cell_type": "code",
   "execution_count": 9,
   "metadata": {},
   "outputs": [],
   "source": [
    "# Visualizing the individual possible trips and individual trip route\n",
    "def visualization():\n",
    "    # Users can determine which individual they want to see\n",
    "    input1 = input(\"Which individual would you like to see?(1-10) \")\n",
    "    # Make sure user input the correct value\n",
    "    try:\n",
    "        i = int(input1)\n",
    "    except:\n",
    "        print(\"Please enter valid number!!\")\n",
    "    \n",
    "    # Define global variables\n",
    "    global geton_stop_name, getoff_stop_name, geton_stop_lst, getoff_stop_lst, origin_lst, board_lst\n",
    "    \n",
    "    # Create a basemap\n",
    "    m = folium.Map([44.943722, -93.094276], \n",
    "                    zoom_start = 12, tiles='Cartodb dark_matter')\n",
    "    crs = {\"init\": \"epsg:4326\"} # Define coordinate system to WGS84\n",
    "    \n",
    "    # Add individual original place, geton stop, getoff stop, and boarding place to the basemap\n",
    "    folium.CircleMarker(geton_stop_lst[i-1], radius = 5, fill = True, fill_color = \"#1dff3b\", \n",
    "                        fill_opacity = 0.75, weight = 0.3, \n",
    "                        tooltip = \"Geton Stop, Name: {0}\".format(geton_stop_name[i-1])).add_to(m)\n",
    "    folium.CircleMarker(getoff_stop_lst[i-1], radius = 5, fill = True, fill_color = \"#ff251d\", \n",
    "                        fill_opacity = 0.75, weight = 0.3, \n",
    "                        tooltip = \"Getoff Stop, Name: {0}\".format(getoff_stop_name[i-1])).add_to(m)\n",
    "    folium.CircleMarker(origin_lst[i-1], radius = 5, fill = True, fill_color = \"#ff961d\", \n",
    "                        fill_opacity = 0.75, weight = 0.3, \n",
    "                        tooltip = \"Original Place\").add_to(m)\n",
    "    folium.CircleMarker(board_lst[i-1], radius = 5, fill = True, fill_color = \"#301dff\", \n",
    "                        fill_opacity = 0.75, weight = 0.3, \n",
    "                        tooltip = \"Boarding Place\").add_to(m)\n",
    "    \n",
    "    # Create a line representing individual trip route and add to the map\n",
    "    folium.PolyLine(make_individual_lines(i-1),color = \"#FF0000\", weight = 2,\n",
    "                    tooltip = \"Individual {0} Trip Route\".format(i)).add_to(m)\n",
    "    \n",
    "    # Create GeoJson object of each individual possible trip and add to the map\n",
    "    for df in range(len(line_df(i-1))):\n",
    "        line_gdf = GeoDataFrame(line_df(i-1)[df], crs = crs)\n",
    "        colors = [\"#F50057\",\"#FFD700\",\"#008000\",\"#0000FF\",\"#FF1493\",\"#800000\", \"#2F4F4F\",\"#4B0082\", \"#00FFFF\", \"#FFA500\"]\n",
    "        color = random.choice(colors)\n",
    "        folium.GeoJson(line_gdf,name = \"Possible Trip: {0}\".format(df + 1),\n",
    "                       style_function = lambda feature,color = color: {'color': color},\n",
    "                       highlight_function = lambda x, color = color: {'weight':5,'color':color,'fillOpacity':1},\n",
    "                       tooltip=folium.features.GeoJsonTooltip(fields=['id'], aliases=[\"Possible Trip:\"])).add_to(m)\n",
    "    \n",
    "    # Add legend to the map through the help of HTML and add to the map                     \n",
    "    legend_html = '''\n",
    "                <div style=\"position: fixed; color: white;\n",
    "                            bottom: 50px; left: 50px; width: 150px; height: 120px; \n",
    "                            border:2px solid white; z-index:9999; font-size:14px;font: \"Times New Roman\";\n",
    "                            \"><br>\n",
    "                              &nbsp; Original Place &nbsp; <i class=\"fa fa-circle\" style=\"color:#ff961d\"></i><br>\n",
    "                              &nbsp; Geton Stop &nbsp; <i class=\"fa fa-circle\" style=\"color:#1dff3b\"></i><br>\n",
    "                              &nbsp; Getoff Stop &nbsp; <i class=\"fa fa-circle\" style=\"color:#ff251d\"></i><br>\n",
    "                              &nbsp; Boarding Place &nbsp; <i class=\"fa fa-circle\" style=\"color:#301dff\"></i>\n",
    "                </div>\n",
    "                ''' \n",
    "    m.get_root().html.add_child(folium.Element(legend_html))\n",
    "    \n",
    "    # Enable layer control\n",
    "    folium.LayerControl().add_to(m)\n",
    "    return m"
   ]
  },
  {
   "cell_type": "code",
   "execution_count": 10,
   "metadata": {},
   "outputs": [
    {
     "name": "stdout",
     "output_type": "stream",
     "text": [
      "Which individual would you like to see?(1-10) 2\n"
     ]
    },
    {
     "data": {
      "text/html": [
       "<div style=\"width:100%;\"><div style=\"position:relative;width:100%;height:0;padding-bottom:60%;\"><span style=\"color:#565656\">Make this Notebook Trusted to load map: File -> Trust Notebook</span><iframe src=\"about:blank\" style=\"position:absolute;width:100%;height:100%;left:0;top:0;border:none !important;\" data-html=PCFET0NUWVBFIGh0bWw+CjxoZWFkPiAgICAKICAgIDxtZXRhIGh0dHAtZXF1aXY9ImNvbnRlbnQtdHlwZSIgY29udGVudD0idGV4dC9odG1sOyBjaGFyc2V0PVVURi04IiAvPgogICAgCiAgICAgICAgPHNjcmlwdD4KICAgICAgICAgICAgTF9OT19UT1VDSCA9IGZhbHNlOwogICAgICAgICAgICBMX0RJU0FCTEVfM0QgPSBmYWxzZTsKICAgICAgICA8L3NjcmlwdD4KICAgIAogICAgPHNjcmlwdCBzcmM9Imh0dHBzOi8vY2RuLmpzZGVsaXZyLm5ldC9ucG0vbGVhZmxldEAxLjYuMC9kaXN0L2xlYWZsZXQuanMiPjwvc2NyaXB0PgogICAgPHNjcmlwdCBzcmM9Imh0dHBzOi8vY29kZS5qcXVlcnkuY29tL2pxdWVyeS0xLjEyLjQubWluLmpzIj48L3NjcmlwdD4KICAgIDxzY3JpcHQgc3JjPSJodHRwczovL21heGNkbi5ib290c3RyYXBjZG4uY29tL2Jvb3RzdHJhcC8zLjIuMC9qcy9ib290c3RyYXAubWluLmpzIj48L3NjcmlwdD4KICAgIDxzY3JpcHQgc3JjPSJodHRwczovL2NkbmpzLmNsb3VkZmxhcmUuY29tL2FqYXgvbGlicy9MZWFmbGV0LmF3ZXNvbWUtbWFya2Vycy8yLjAuMi9sZWFmbGV0LmF3ZXNvbWUtbWFya2Vycy5qcyI+PC9zY3JpcHQ+CiAgICA8bGluayByZWw9InN0eWxlc2hlZXQiIGhyZWY9Imh0dHBzOi8vY2RuLmpzZGVsaXZyLm5ldC9ucG0vbGVhZmxldEAxLjYuMC9kaXN0L2xlYWZsZXQuY3NzIi8+CiAgICA8bGluayByZWw9InN0eWxlc2hlZXQiIGhyZWY9Imh0dHBzOi8vbWF4Y2RuLmJvb3RzdHJhcGNkbi5jb20vYm9vdHN0cmFwLzMuMi4wL2Nzcy9ib290c3RyYXAubWluLmNzcyIvPgogICAgPGxpbmsgcmVsPSJzdHlsZXNoZWV0IiBocmVmPSJodHRwczovL21heGNkbi5ib290c3RyYXBjZG4uY29tL2Jvb3RzdHJhcC8zLjIuMC9jc3MvYm9vdHN0cmFwLXRoZW1lLm1pbi5jc3MiLz4KICAgIDxsaW5rIHJlbD0ic3R5bGVzaGVldCIgaHJlZj0iaHR0cHM6Ly9tYXhjZG4uYm9vdHN0cmFwY2RuLmNvbS9mb250LWF3ZXNvbWUvNC42LjMvY3NzL2ZvbnQtYXdlc29tZS5taW4uY3NzIi8+CiAgICA8bGluayByZWw9InN0eWxlc2hlZXQiIGhyZWY9Imh0dHBzOi8vY2RuanMuY2xvdWRmbGFyZS5jb20vYWpheC9saWJzL0xlYWZsZXQuYXdlc29tZS1tYXJrZXJzLzIuMC4yL2xlYWZsZXQuYXdlc29tZS1tYXJrZXJzLmNzcyIvPgogICAgPGxpbmsgcmVsPSJzdHlsZXNoZWV0IiBocmVmPSJodHRwczovL3Jhd2Nkbi5naXRoYWNrLmNvbS9weXRob24tdmlzdWFsaXphdGlvbi9mb2xpdW0vbWFzdGVyL2ZvbGl1bS90ZW1wbGF0ZXMvbGVhZmxldC5hd2Vzb21lLnJvdGF0ZS5jc3MiLz4KICAgIDxzdHlsZT5odG1sLCBib2R5IHt3aWR0aDogMTAwJTtoZWlnaHQ6IDEwMCU7bWFyZ2luOiAwO3BhZGRpbmc6IDA7fTwvc3R5bGU+CiAgICA8c3R5bGU+I21hcCB7cG9zaXRpb246YWJzb2x1dGU7dG9wOjA7Ym90dG9tOjA7cmlnaHQ6MDtsZWZ0OjA7fTwvc3R5bGU+CiAgICAKICAgICAgICAgICAgPG1ldGEgbmFtZT0idmlld3BvcnQiIGNvbnRlbnQ9IndpZHRoPWRldmljZS13aWR0aCwKICAgICAgICAgICAgICAgIGluaXRpYWwtc2NhbGU9MS4wLCBtYXhpbXVtLXNjYWxlPTEuMCwgdXNlci1zY2FsYWJsZT1ubyIgLz4KICAgICAgICAgICAgPHN0eWxlPgogICAgICAgICAgICAgICAgI21hcF81ZWNlNTdiYTU5NWY0Zjg0YTA2YzUyOGExNDZhNTFjZSB7CiAgICAgICAgICAgICAgICAgICAgcG9zaXRpb246IHJlbGF0aXZlOwogICAgICAgICAgICAgICAgICAgIHdpZHRoOiAxMDAuMCU7CiAgICAgICAgICAgICAgICAgICAgaGVpZ2h0OiAxMDAuMCU7CiAgICAgICAgICAgICAgICAgICAgbGVmdDogMC4wJTsKICAgICAgICAgICAgICAgICAgICB0b3A6IDAuMCU7CiAgICAgICAgICAgICAgICB9CiAgICAgICAgICAgIDwvc3R5bGU+CiAgICAgICAgCiAgICAKICAgICAgICAgICAgICAgICAgICA8c3R5bGU+CiAgICAgICAgICAgICAgICAgICAgICAgIC5mb2xpdW10b29sdGlwIHsKICAgICAgICAgICAgICAgICAgICAgICAgICAgIAogICAgICAgICAgICAgICAgICAgICAgICB9CiAgICAgICAgICAgICAgICAgICAgICAgLmZvbGl1bXRvb2x0aXAgdGFibGV7CiAgICAgICAgICAgICAgICAgICAgICAgICAgICBtYXJnaW46IGF1dG87CiAgICAgICAgICAgICAgICAgICAgICAgIH0KICAgICAgICAgICAgICAgICAgICAgICAgLmZvbGl1bXRvb2x0aXAgdHJ7CiAgICAgICAgICAgICAgICAgICAgICAgICAgICB0ZXh0LWFsaWduOiBsZWZ0OwogICAgICAgICAgICAgICAgICAgICAgICB9CiAgICAgICAgICAgICAgICAgICAgICAgIC5mb2xpdW10b29sdGlwIHRoewogICAgICAgICAgICAgICAgICAgICAgICAgICAgcGFkZGluZzogMnB4OyBwYWRkaW5nLXJpZ2h0OiA4cHg7CiAgICAgICAgICAgICAgICAgICAgICAgIH0KICAgICAgICAgICAgICAgICAgICA8L3N0eWxlPgogICAgICAgICAgICAKICAgIAogICAgICAgICAgICAgICAgICAgIDxzdHlsZT4KICAgICAgICAgICAgICAgICAgICAgICAgLmZvbGl1bXRvb2x0aXAgewogICAgICAgICAgICAgICAgICAgICAgICAgICAgCiAgICAgICAgICAgICAgICAgICAgICAgIH0KICAgICAgICAgICAgICAgICAgICAgICAuZm9saXVtdG9vbHRpcCB0YWJsZXsKICAgICAgICAgICAgICAgICAgICAgICAgICAgIG1hcmdpbjogYXV0bzsKICAgICAgICAgICAgICAgICAgICAgICAgfQogICAgICAgICAgICAgICAgICAgICAgICAuZm9saXVtdG9vbHRpcCB0cnsKICAgICAgICAgICAgICAgICAgICAgICAgICAgIHRleHQtYWxpZ246IGxlZnQ7CiAgICAgICAgICAgICAgICAgICAgICAgIH0KICAgICAgICAgICAgICAgICAgICAgICAgLmZvbGl1bXRvb2x0aXAgdGh7CiAgICAgICAgICAgICAgICAgICAgICAgICAgICBwYWRkaW5nOiAycHg7IHBhZGRpbmctcmlnaHQ6IDhweDsKICAgICAgICAgICAgICAgICAgICAgICAgfQogICAgICAgICAgICAgICAgICAgIDwvc3R5bGU+CiAgICAgICAgICAgIAo8L2hlYWQ+Cjxib2R5PiAgICAKICAgIAogICAgICAgICAgICAgICAgPGRpdiBzdHlsZT0icG9zaXRpb246IGZpeGVkOyBjb2xvcjogd2hpdGU7CiAgICAgICAgICAgICAgICAgICAgICAgICAgICBib3R0b206IDUwcHg7IGxlZnQ6IDUwcHg7IHdpZHRoOiAxNTBweDsgaGVpZ2h0OiAxMjBweDsgCiAgICAgICAgICAgICAgICAgICAgICAgICAgICBib3JkZXI6MnB4IHNvbGlkIHdoaXRlOyB6LWluZGV4Ojk5OTk7IGZvbnQtc2l6ZToxNHB4O2ZvbnQ6ICJUaW1lcyBOZXcgUm9tYW4iOwogICAgICAgICAgICAgICAgICAgICAgICAgICAgIj48YnI+CiAgICAgICAgICAgICAgICAgICAgICAgICAgICAgICZuYnNwOyBPcmlnaW5hbCBQbGFjZSAmbmJzcDsgPGkgY2xhc3M9ImZhIGZhLWNpcmNsZSIgc3R5bGU9ImNvbG9yOiNmZjk2MWQiPjwvaT48YnI+CiAgICAgICAgICAgICAgICAgICAgICAgICAgICAgICZuYnNwOyBHZXRvbiBTdG9wICZuYnNwOyA8aSBjbGFzcz0iZmEgZmEtY2lyY2xlIiBzdHlsZT0iY29sb3I6IzFkZmYzYiI+PC9pPjxicj4KICAgICAgICAgICAgICAgICAgICAgICAgICAgICAgJm5ic3A7IEdldG9mZiBTdG9wICZuYnNwOyA8aSBjbGFzcz0iZmEgZmEtY2lyY2xlIiBzdHlsZT0iY29sb3I6I2ZmMjUxZCI+PC9pPjxicj4KICAgICAgICAgICAgICAgICAgICAgICAgICAgICAgJm5ic3A7IEJvYXJkaW5nIFBsYWNlICZuYnNwOyA8aSBjbGFzcz0iZmEgZmEtY2lyY2xlIiBzdHlsZT0iY29sb3I6IzMwMWRmZiI+PC9pPgogICAgICAgICAgICAgICAgPC9kaXY+CiAgICAgICAgICAgICAgICAKICAgIAogICAgICAgICAgICA8ZGl2IGNsYXNzPSJmb2xpdW0tbWFwIiBpZD0ibWFwXzVlY2U1N2JhNTk1ZjRmODRhMDZjNTI4YTE0NmE1MWNlIiA+PC9kaXY+CiAgICAgICAgCjwvYm9keT4KPHNjcmlwdD4gICAgCiAgICAKICAgICAgICAgICAgdmFyIG1hcF81ZWNlNTdiYTU5NWY0Zjg0YTA2YzUyOGExNDZhNTFjZSA9IEwubWFwKAogICAgICAgICAgICAgICAgIm1hcF81ZWNlNTdiYTU5NWY0Zjg0YTA2YzUyOGExNDZhNTFjZSIsCiAgICAgICAgICAgICAgICB7CiAgICAgICAgICAgICAgICAgICAgY2VudGVyOiBbNDQuOTQzNzIyLCAtOTMuMDk0Mjc2XSwKICAgICAgICAgICAgICAgICAgICBjcnM6IEwuQ1JTLkVQU0czODU3LAogICAgICAgICAgICAgICAgICAgIHpvb206IDEyLAogICAgICAgICAgICAgICAgICAgIHpvb21Db250cm9sOiB0cnVlLAogICAgICAgICAgICAgICAgICAgIHByZWZlckNhbnZhczogZmFsc2UsCiAgICAgICAgICAgICAgICB9CiAgICAgICAgICAgICk7CgogICAgICAgICAgICAKCiAgICAgICAgCiAgICAKICAgICAgICAgICAgdmFyIHRpbGVfbGF5ZXJfNmVhZmQ1MzE4ZDY3NDE3ZmJmM2FhNjRmZmQzOGYwOGQgPSBMLnRpbGVMYXllcigKICAgICAgICAgICAgICAgICJodHRwczovL2NhcnRvZGItYmFzZW1hcHMte3N9Lmdsb2JhbC5zc2wuZmFzdGx5Lm5ldC9kYXJrX2FsbC97en0ve3h9L3t5fS5wbmciLAogICAgICAgICAgICAgICAgeyJhdHRyaWJ1dGlvbiI6ICJcdTAwMjZjb3B5OyBcdTAwM2NhIGhyZWY9XCJodHRwOi8vd3d3Lm9wZW5zdHJlZXRtYXAub3JnL2NvcHlyaWdodFwiXHUwMDNlT3BlblN0cmVldE1hcFx1MDAzYy9hXHUwMDNlIGNvbnRyaWJ1dG9ycyBcdTAwMjZjb3B5OyBcdTAwM2NhIGhyZWY9XCJodHRwOi8vY2FydG9kYi5jb20vYXR0cmlidXRpb25zXCJcdTAwM2VDYXJ0b0RCXHUwMDNjL2FcdTAwM2UsIENhcnRvREIgXHUwMDNjYSBocmVmID1cImh0dHA6Ly9jYXJ0b2RiLmNvbS9hdHRyaWJ1dGlvbnNcIlx1MDAzZWF0dHJpYnV0aW9uc1x1MDAzYy9hXHUwMDNlIiwgImRldGVjdFJldGluYSI6IGZhbHNlLCAibWF4TmF0aXZlWm9vbSI6IDE4LCAibWF4Wm9vbSI6IDE4LCAibWluWm9vbSI6IDAsICJub1dyYXAiOiBmYWxzZSwgIm9wYWNpdHkiOiAxLCAic3ViZG9tYWlucyI6ICJhYmMiLCAidG1zIjogZmFsc2V9CiAgICAgICAgICAgICkuYWRkVG8obWFwXzVlY2U1N2JhNTk1ZjRmODRhMDZjNTI4YTE0NmE1MWNlKTsKICAgICAgICAKICAgIAogICAgICAgICAgICB2YXIgY2lyY2xlX21hcmtlcl9kZTAyMmYzOTAyYzk0OTdmYmVhNzk4Mjg4YTRhZGQ3ZiA9IEwuY2lyY2xlTWFya2VyKAogICAgICAgICAgICAgICAgWzQ0Ljk1NTM3NCwgLTkzLjI0NzQzN10sCiAgICAgICAgICAgICAgICB7ImJ1YmJsaW5nTW91c2VFdmVudHMiOiB0cnVlLCAiY29sb3IiOiAiIzMzODhmZiIsICJkYXNoQXJyYXkiOiBudWxsLCAiZGFzaE9mZnNldCI6IG51bGwsICJmaWxsIjogdHJ1ZSwgImZpbGxDb2xvciI6ICIjMWRmZjNiIiwgImZpbGxPcGFjaXR5IjogMC43NSwgImZpbGxSdWxlIjogImV2ZW5vZGQiLCAibGluZUNhcCI6ICJyb3VuZCIsICJsaW5lSm9pbiI6ICJyb3VuZCIsICJvcGFjaXR5IjogMS4wLCAicmFkaXVzIjogNSwgInN0cm9rZSI6IHRydWUsICJ3ZWlnaHQiOiAwLjN9CiAgICAgICAgICAgICkuYWRkVG8obWFwXzVlY2U1N2JhNTk1ZjRmODRhMDZjNTI4YTE0NmE1MWNlKTsKICAgICAgICAKICAgIAogICAgICAgICAgICBjaXJjbGVfbWFya2VyX2RlMDIyZjM5MDJjOTQ5N2ZiZWE3OTgyODhhNGFkZDdmLmJpbmRUb29sdGlwKAogICAgICAgICAgICAgICAgYDxkaXY+CiAgICAgICAgICAgICAgICAgICAgIEdldG9uIFN0b3AsIE5hbWU6IENlZGFyIEF2ZSBTICYgMjZ0aCBTdCBFCiAgICAgICAgICAgICAgICAgPC9kaXY+YCwKICAgICAgICAgICAgICAgIHsic3RpY2t5IjogdHJ1ZX0KICAgICAgICAgICAgKTsKICAgICAgICAKICAgIAogICAgICAgICAgICB2YXIgY2lyY2xlX21hcmtlcl85M2E5YmVhM2VmYWY0OGM4YTdhNTA0ZWNmZTc3M2VmOSA9IEwuY2lyY2xlTWFya2VyKAogICAgICAgICAgICAgICAgWzQ0LjkzNDg3LCAtOTMuMjI5NzMxXSwKICAgICAgICAgICAgICAgIHsiYnViYmxpbmdNb3VzZUV2ZW50cyI6IHRydWUsICJjb2xvciI6ICIjMzM4OGZmIiwgImRhc2hBcnJheSI6IG51bGwsICJkYXNoT2Zmc2V0IjogbnVsbCwgImZpbGwiOiB0cnVlLCAiZmlsbENvbG9yIjogIiNmZjI1MWQiLCAiZmlsbE9wYWNpdHkiOiAwLjc1LCAiZmlsbFJ1bGUiOiAiZXZlbm9kZCIsICJsaW5lQ2FwIjogInJvdW5kIiwgImxpbmVKb2luIjogInJvdW5kIiwgIm9wYWNpdHkiOiAxLjAsICJyYWRpdXMiOiA1LCAic3Ryb2tlIjogdHJ1ZSwgIndlaWdodCI6IDAuM30KICAgICAgICAgICAgKS5hZGRUbyhtYXBfNWVjZTU3YmE1OTVmNGY4NGEwNmM1MjhhMTQ2YTUxY2UpOwogICAgICAgIAogICAgCiAgICAgICAgICAgIGNpcmNsZV9tYXJrZXJfOTNhOWJlYTNlZmFmNDhjOGE3YTUwNGVjZmU3NzNlZjkuYmluZFRvb2x0aXAoCiAgICAgICAgICAgICAgICBgPGRpdj4KICAgICAgICAgICAgICAgICAgICAgR2V0b2ZmIFN0b3AsIE5hbWU6IDM4dGggU3QgU3RhdGlvbiAmIEdhdGUgQgogICAgICAgICAgICAgICAgIDwvZGl2PmAsCiAgICAgICAgICAgICAgICB7InN0aWNreSI6IHRydWV9CiAgICAgICAgICAgICk7CiAgICAgICAgCiAgICAKICAgICAgICAgICAgdmFyIGNpcmNsZV9tYXJrZXJfZmY5MWFmMGVhZmVkNGE0Y2IyNjE5NzcxMmRjZGRkYWUgPSBMLmNpcmNsZU1hcmtlcigKICAgICAgICAgICAgICAgIFs0NC45NTUsIC05My4yNDYwMDAwMDAwMDAwMV0sCiAgICAgICAgICAgICAgICB7ImJ1YmJsaW5nTW91c2VFdmVudHMiOiB0cnVlLCAiY29sb3IiOiAiIzMzODhmZiIsICJkYXNoQXJyYXkiOiBudWxsLCAiZGFzaE9mZnNldCI6IG51bGwsICJmaWxsIjogdHJ1ZSwgImZpbGxDb2xvciI6ICIjZmY5NjFkIiwgImZpbGxPcGFjaXR5IjogMC43NSwgImZpbGxSdWxlIjogImV2ZW5vZGQiLCAibGluZUNhcCI6ICJyb3VuZCIsICJsaW5lSm9pbiI6ICJyb3VuZCIsICJvcGFjaXR5IjogMS4wLCAicmFkaXVzIjogNSwgInN0cm9rZSI6IHRydWUsICJ3ZWlnaHQiOiAwLjN9CiAgICAgICAgICAgICkuYWRkVG8obWFwXzVlY2U1N2JhNTk1ZjRmODRhMDZjNTI4YTE0NmE1MWNlKTsKICAgICAgICAKICAgIAogICAgICAgICAgICBjaXJjbGVfbWFya2VyX2ZmOTFhZjBlYWZlZDRhNGNiMjYxOTc3MTJkY2RkZGFlLmJpbmRUb29sdGlwKAogICAgICAgICAgICAgICAgYDxkaXY+CiAgICAgICAgICAgICAgICAgICAgIE9yaWdpbmFsIFBsYWNlCiAgICAgICAgICAgICAgICAgPC9kaXY+YCwKICAgICAgICAgICAgICAgIHsic3RpY2t5IjogdHJ1ZX0KICAgICAgICAgICAgKTsKICAgICAgICAKICAgIAogICAgICAgICAgICB2YXIgY2lyY2xlX21hcmtlcl9mMzEwMjkxNDJjY2I0MjI3YjVmZmE0YTZjOTgwYTJkNyA9IEwuY2lyY2xlTWFya2VyKAogICAgICAgICAgICAgICAgWzQ0LjkzNDYxMywgLTkzLjIyOTQyMV0sCiAgICAgICAgICAgICAgICB7ImJ1YmJsaW5nTW91c2VFdmVudHMiOiB0cnVlLCAiY29sb3IiOiAiIzMzODhmZiIsICJkYXNoQXJyYXkiOiBudWxsLCAiZGFzaE9mZnNldCI6IG51bGwsICJmaWxsIjogdHJ1ZSwgImZpbGxDb2xvciI6ICIjMzAxZGZmIiwgImZpbGxPcGFjaXR5IjogMC43NSwgImZpbGxSdWxlIjogImV2ZW5vZGQiLCAibGluZUNhcCI6ICJyb3VuZCIsICJsaW5lSm9pbiI6ICJyb3VuZCIsICJvcGFjaXR5IjogMS4wLCAicmFkaXVzIjogNSwgInN0cm9rZSI6IHRydWUsICJ3ZWlnaHQiOiAwLjN9CiAgICAgICAgICAgICkuYWRkVG8obWFwXzVlY2U1N2JhNTk1ZjRmODRhMDZjNTI4YTE0NmE1MWNlKTsKICAgICAgICAKICAgIAogICAgICAgICAgICBjaXJjbGVfbWFya2VyX2YzMTAyOTE0MmNjYjQyMjdiNWZmYTRhNmM5ODBhMmQ3LmJpbmRUb29sdGlwKAogICAgICAgICAgICAgICAgYDxkaXY+CiAgICAgICAgICAgICAgICAgICAgIEJvYXJkaW5nIFBsYWNlCiAgICAgICAgICAgICAgICAgPC9kaXY+YCwKICAgICAgICAgICAgICAgIHsic3RpY2t5IjogdHJ1ZX0KICAgICAgICAgICAgKTsKICAgICAgICAKICAgIAogICAgICAgICAgICB2YXIgcG9seV9saW5lXzMxNjg5YzQxNDUwMTQzYmFiMWUxYTYwYjVmZDQxMjQ2ID0gTC5wb2x5bGluZSgKICAgICAgICAgICAgICAgIFtbNDQuOTU1LCAtOTMuMjQ2MDAwMDAwMDAwMDFdLCBbNDQuOTU1Mzc0LCAtOTMuMjQ3NDM3XSwgWzQ0Ljk1MzgzNCwgLTkzLjI0NzQ2Ml0sIFs0NC45NTIwNDUsIC05My4yNDc0NjJdLCBbNDQuOTQ4NDYyLCAtOTMuMjQ3NDg5XSwgWzQ0Ljk0NjY2MTk5OTk5OTk5NiwgLTkzLjI0NzQ5M10sIFs0NC45NDQ4NDMsIC05My4yNDc0OTddLCBbNDQuOTQzMDI2LCAtOTMuMjQ3NDczXSwgWzQ0Ljk0MTQyNzAwMDAwMDAwNCwgLTkzLjI0NzQ1NV0sIFs0NC45Mzk0OTgsIC05My4yNDcyM10sIFs0NC45Mzk0OTUsIC05My4yNDQ5MDFdLCBbNDQuOTM5NDgxLCAtOTMuMjQyMzk3XSwgWzQ0LjkzOTQ3OTk5OTk5OTk5NiwgLTkzLjIzOTA0OF0sIFs0NC45Mzc4MTY5OTk5OTk5OTUsIC05My4yMzg5NjhdLCBbNDQuOTM2MDA5MDAwMDAwMDA2LCAtOTMuMjM4OTY0XSwgWzQ0LjkzNDYzNSwgLTkzLjIzODk2Ml0sIFs0NC45MzQwNTkwMDAwMDAwMDUsIC05My4yMzczMTRdLCBbNDQuOTM0MDYyLCAtOTMuMjM0NzhdLCBbNDQuOTM0MDYxLCAtOTMuMjMyMjQyXSwgWzQ0LjkzNDg3MDAwMDAwMDAwNCwgLTkzLjIyOTczMV0sIFs0NC45MzQ2MTMsIC05My4yMjk0MjFdXSwKICAgICAgICAgICAgICAgIHsiYnViYmxpbmdNb3VzZUV2ZW50cyI6IHRydWUsICJjb2xvciI6ICIjRkYwMDAwIiwgImRhc2hBcnJheSI6IG51bGwsICJkYXNoT2Zmc2V0IjogbnVsbCwgImZpbGwiOiBmYWxzZSwgImZpbGxDb2xvciI6ICIjRkYwMDAwIiwgImZpbGxPcGFjaXR5IjogMC4yLCAiZmlsbFJ1bGUiOiAiZXZlbm9kZCIsICJsaW5lQ2FwIjogInJvdW5kIiwgImxpbmVKb2luIjogInJvdW5kIiwgIm5vQ2xpcCI6IGZhbHNlLCAib3BhY2l0eSI6IDEuMCwgInNtb290aEZhY3RvciI6IDEuMCwgInN0cm9rZSI6IHRydWUsICJ3ZWlnaHQiOiAyfQogICAgICAgICAgICApLmFkZFRvKG1hcF81ZWNlNTdiYTU5NWY0Zjg0YTA2YzUyOGExNDZhNTFjZSk7CiAgICAgICAgCiAgICAKICAgICAgICAgICAgcG9seV9saW5lXzMxNjg5YzQxNDUwMTQzYmFiMWUxYTYwYjVmZDQxMjQ2LmJpbmRUb29sdGlwKAogICAgICAgICAgICAgICAgYDxkaXY+CiAgICAgICAgICAgICAgICAgICAgIEluZGl2aWR1YWwgMiBUcmlwIFJvdXRlCiAgICAgICAgICAgICAgICAgPC9kaXY+YCwKICAgICAgICAgICAgICAgIHsic3RpY2t5IjogdHJ1ZX0KICAgICAgICAgICAgKTsKICAgICAgICAKICAgIAogICAgICAgIGZ1bmN0aW9uIGdlb19qc29uXzk3ZTFhMzU1MTlkZTQ3MjJiMDk1YmVhYmQwNzRhZDNkX3N0eWxlcihmZWF0dXJlKSB7CiAgICAgICAgICAgIHN3aXRjaChmZWF0dXJlLmlkKSB7CiAgICAgICAgICAgICAgICBkZWZhdWx0OgogICAgICAgICAgICAgICAgICAgIHJldHVybiB7ImNvbG9yIjogIiNGRjE0OTMifTsKICAgICAgICAgICAgfQogICAgICAgIH0KICAgICAgICBmdW5jdGlvbiBnZW9fanNvbl85N2UxYTM1NTE5ZGU0NzIyYjA5NWJlYWJkMDc0YWQzZF9oaWdobGlnaHRlcihmZWF0dXJlKSB7CiAgICAgICAgICAgIHN3aXRjaChmZWF0dXJlLmlkKSB7CiAgICAgICAgICAgICAgICBkZWZhdWx0OgogICAgICAgICAgICAgICAgICAgIHJldHVybiB7ImNvbG9yIjogIiNGRjE0OTMiLCAiZmlsbE9wYWNpdHkiOiAxLCAid2VpZ2h0IjogNX07CiAgICAgICAgICAgIH0KICAgICAgICB9CiAgICAgICAgZnVuY3Rpb24gZ2VvX2pzb25fOTdlMWEzNTUxOWRlNDcyMmIwOTViZWFiZDA3NGFkM2Rfb25FYWNoRmVhdHVyZShmZWF0dXJlLCBsYXllcikgewogICAgICAgICAgICBsYXllci5vbih7CiAgICAgICAgICAgICAgICBtb3VzZW91dDogZnVuY3Rpb24oZSkgewogICAgICAgICAgICAgICAgICAgIGdlb19qc29uXzk3ZTFhMzU1MTlkZTQ3MjJiMDk1YmVhYmQwNzRhZDNkLnJlc2V0U3R5bGUoZS50YXJnZXQpOwogICAgICAgICAgICAgICAgfSwKICAgICAgICAgICAgICAgIG1vdXNlb3ZlcjogZnVuY3Rpb24oZSkgewogICAgICAgICAgICAgICAgICAgIGUudGFyZ2V0LnNldFN0eWxlKGdlb19qc29uXzk3ZTFhMzU1MTlkZTQ3MjJiMDk1YmVhYmQwNzRhZDNkX2hpZ2hsaWdodGVyKGUudGFyZ2V0LmZlYXR1cmUpKTsKICAgICAgICAgICAgICAgIH0sCiAgICAgICAgICAgICAgICBjbGljazogZnVuY3Rpb24oZSkgewogICAgICAgICAgICAgICAgICAgIG1hcF81ZWNlNTdiYTU5NWY0Zjg0YTA2YzUyOGExNDZhNTFjZS5maXRCb3VuZHMoZS50YXJnZXQuZ2V0Qm91bmRzKCkpOwogICAgICAgICAgICAgICAgfQogICAgICAgICAgICB9KTsKICAgICAgICB9OwogICAgICAgIHZhciBnZW9fanNvbl85N2UxYTM1NTE5ZGU0NzIyYjA5NWJlYWJkMDc0YWQzZCA9IEwuZ2VvSnNvbihudWxsLCB7CiAgICAgICAgICAgICAgICBvbkVhY2hGZWF0dXJlOiBnZW9fanNvbl85N2UxYTM1NTE5ZGU0NzIyYjA5NWJlYWJkMDc0YWQzZF9vbkVhY2hGZWF0dXJlLAogICAgICAgICAgICAKICAgICAgICAgICAgICAgIHN0eWxlOiBnZW9fanNvbl85N2UxYTM1NTE5ZGU0NzIyYjA5NWJlYWJkMDc0YWQzZF9zdHlsZXIsCiAgICAgICAgfSkuYWRkVG8obWFwXzVlY2U1N2JhNTk1ZjRmODRhMDZjNTI4YTE0NmE1MWNlKTsKCiAgICAgICAgZnVuY3Rpb24gZ2VvX2pzb25fOTdlMWEzNTUxOWRlNDcyMmIwOTViZWFiZDA3NGFkM2RfYWRkIChkYXRhKSB7CiAgICAgICAgICAgIGdlb19qc29uXzk3ZTFhMzU1MTlkZTQ3MjJiMDk1YmVhYmQwNzRhZDNkLmFkZERhdGEoZGF0YSk7CiAgICAgICAgfQogICAgICAgICAgICBnZW9fanNvbl85N2UxYTM1NTE5ZGU0NzIyYjA5NWJlYWJkMDc0YWQzZF9hZGQoeyJiYm94IjogWy05My4zMjAxNjEsIDQ0Ljg5ODAyMSwgLTkzLjIwMjM3MiwgNDUuMDYwNTY3XSwgImZlYXR1cmVzIjogW3siYmJveCI6IFstOTMuMzIwMTYxLCA0NC44OTgwMjEsIC05My4yMDIzNzIsIDQ1LjA2MDU2N10sICJnZW9tZXRyeSI6IHsiY29vcmRpbmF0ZXMiOiBbWy05My4zMTg4MjEsIDQ1LjA1OTcxOF0sIFstOTMuMzE5NjkzLCA0NS4wNjA1NjddLCBbLTkzLjMyMDE2MSwgNDUuMDU5MTY5XSwgWy05My4zMTY5MTMsIDQ1LjA1OTEyXSwgWy05My4zMTIyNDMwMDAwMDAwMSwgNDUuMDU4OTc0XSwgWy05My4zMDYyMjUsIDQ1LjA1ODQ0NF0sIFstOTMuMzA0MTY1LCA0NS4wNTg0XSwgWy05My4zMDQxNiwgNDUuMDU2NzIxXSwgWy05My4zMDQyMjgwMDAwMDAwMSwgNDUuMDU0OTAyXSwgWy05My4zMDQyODgsIDQ1LjA1MzA4OF0sIFstOTMuMzA0MzI5MDAwMDAwMDEsIDQ1LjA1MTMxOF0sIFstOTMuMzAxODU0LCA0NS4wNTExMTZdLCBbLTkzLjI5OTMxMSwgNDUuMDUxMDg3XSwgWy05My4yOTkyNTYsIDQ1LjA0OTQzXSwgWy05My4yOTk0NzksIDQ1LjA0NzYzMl0sIFstOTMuMjk5NDY2MDAwMDAwMDEsIDQ1LjA0MzYzNDk5OTk5OTk5NV0sIFstOTMuMjk5MjE1LCA0NS4wNDA3NDldLCBbLTkzLjI5NjczNCwgNDUuMDM5Mjk3OTk5OTk5OTk1XSwgWy05My4yOTMwOTEsIDQ1LjAzNjcxNV0sIFstOTMuMjkxNTEyLCA0NS4wMzY2MzddLCBbLTkzLjI5MDI0MywgNDUuMDM2NjUxXSwgWy05My4yODc5MzcsIDQ1LjAzNjgzNDk5OTk5OTk5Nl0sIFstOTMuMjg4MTg5LCA0NS4wMzUzMTRdLCBbLTkzLjI4ODE1MSwgNDUuMDMyNDY0MDAwMDAwMDA0XSwgWy05My4yODgxMDgsIDQ1LjAzMTU4MzAwMDAwMDAwNV0sIFstOTMuMjg4MTE0MDAwMDAwMDEsIDQ1LjAzMDQ2MDk5OTk5OTk5NV0sIFstOTMuMjg4MTY3LCA0NS4wMjk1MDZdLCBbLTkzLjI4ODE1MSwgNDUuMDI3NzA2XSwgWy05My4yODgxNDksIDQ1LjAyNTg5NV0sIFstOTMuMjg4MTM2LCA0NS4wMjQxMzldLCBbLTkzLjI4ODExNiwgNDUuMDIyMjg3XSwgWy05My4yODgxMSwgNDUuMDIwNDkzXSwgWy05My4yODgxMDEsIDQ1LjAxODY1Ml0sIFstOTMuMjg4MDkyLCA0NS4wMTY4MTZdLCBbLTkzLjI4ODA4NywgNDUuMDE1MDY4XSwgWy05My4yODgwODQsIDQ1LjAxMjgxNl0sIFstOTMuMjg4MDcyLCA0NS4wMDk2Nzk5OTk5OTk5OTZdLCBbLTkzLjI4ODA2NiwgNDUuMDA3ODMzMDAwMDAwMDA1XSwgWy05My4yODgwNjEsIDQ1LjAwNjA1OF0sIFstOTMuMjg4MDYsIDQ1LjAwNDkzXSwgWy05My4yODgwNTc5OTk5OTk5OSwgNDUuMDAzODExXSwgWy05My4yODgwNTYwMDAwMDAwMSwgNDUuMDAyNzFdLCBbLTkzLjI4ODA2NiwgNDUuMDAxNjFdLCBbLTkzLjI4ODA2MiwgNDQuOTk5MjI5XSwgWy05My4yODgwNTcsIDQ0Ljk5NzU0OV0sIFstOTMuMjg4MDY1LCA0NC45OTQ0OTVdLCBbLTkzLjI4ODA2OTk5OTk5OTk5LCA0NC45OTMxOTVdLCBbLTkzLjI4ODA2NCwgNDQuOTkyMDIyOTk5OTk5OTk2XSwgWy05My4yODU2MzUsIDQ0Ljk4NTYzMV0sIFstOTMuMjg0MDQxLCA0NC45ODQ1MDddLCBbLTkzLjI3OTY2NiwgNDQuOTgwMjFdLCBbLTkzLjI3Nzc5NiwgNDQuOTc3ODc3XSwgWy05My4yNzYwNzYsIDQ0Ljk3NzE4NF0sIFstOTMuMjczNzY3LCA0NC45NzYxMjhdLCBbLTkzLjI3MTA4Mjk5OTk5OTk5LCA0NC45NzUwMDRdLCBbLTkzLjI2ODMyMSwgNDQuOTczODVdLCBbLTkzLjI2NTQxNSwgNDQuOTczOTA2XSwgWy05My4yNjQ2MDMwMDAwMDAwMSwgNDQuOTc0ODZdLCBbLTkzLjI2MzgwOCwgNDQuOTc1ODVdLCBbLTkzLjI2Mjk4MTAwMDAwMDAxLCA0NC45NzY4MTJdLCBbLTkzLjI2MTM4NSwgNDQuOTc4Njk4XSwgWy05My4yNjAxMTEsIDQ0Ljk3ODI0OF0sIFstOTMuMjU3NDM5LCA0NC45NzcxMjM5OTk5OTk5OTZdLCBbLTkzLjI1NDcxOTk5OTk5OTk5LCA0NC45NzU5NTMwMDAwMDAwMDRdLCBbLTkzLjI1MzMyNiwgNDQuOTc1MzcxXSwgWy05My4yNDcyODYsIDQ0Ljk3MjMwMzAwMDAwMDAwNF0sIFstOTMuMjQ3MzM2LCA0NC45NzE0MDldLCBbLTkzLjI0NzMzLCA0NC45NjldLCBbLTkzLjI0NzM0Njk5OTk5OTk5LCA0NC45Njc0ODhdLCBbLTkzLjI0NTk0OCwgNDQuOTY0MTE2XSwgWy05My4yNDUzMTMsIDQ0Ljk2Mjg0NF0sIFstOTMuMjQ3Mzc2LCA0NC45NTg5NzEwMDAwMDAwMDVdLCBbLTkzLjI0NzQwNjAwMDAwMDAxLCA0NC45NTcwOTddLCBbLTkzLjI0NzQzNywgNDQuOTU1Mzc0XSwgWy05My4yNDc0NjIsIDQ0Ljk1MzgzNF0sIFstOTMuMjQ3NDYyLCA0NC45NTIwNDVdLCBbLTkzLjI0NzQ4OSwgNDQuOTQ4NDYyXSwgWy05My4yNDc0OTMsIDQ0Ljk0NjY2MTk5OTk5OTk5Nl0sIFstOTMuMjQ3NDk3LCA0NC45NDQ4NDNdLCBbLTkzLjI0NzQ3MywgNDQuOTQzMDI2XSwgWy05My4yNDc0NTUsIDQ0Ljk0MTQyNzAwMDAwMDAwNF0sIFstOTMuMjQ3MjMsIDQ0LjkzOTQ5OF0sIFstOTMuMjQ0OTAxLCA0NC45Mzk0OTVdLCBbLTkzLjI0MjM5NywgNDQuOTM5NDgxXSwgWy05My4yMzkwNDgsIDQ0LjkzOTQ3OTk5OTk5OTk5Nl0sIFstOTMuMjM4OTY4LCA0NC45Mzc4MTY5OTk5OTk5OTVdLCBbLTkzLjIzODk2NCwgNDQuOTM2MDA5MDAwMDAwMDA2XSwgWy05My4yMzg5NjIsIDQ0LjkzNDYzNV0sIFstOTMuMjM3MzE0LCA0NC45MzQwNTkwMDAwMDAwMDVdLCBbLTkzLjIzNDc4LCA0NC45MzQwNjJdLCBbLTkzLjIzMjI0MiwgNDQuOTM0MDYxXSwgWy05My4yMjk3MzEsIDQ0LjkzNDg3MDAwMDAwMDAwNF0sIFstOTMuMjMyMTg5LCA0NC45MzIzOTAwMDAwMDAwMDVdLCBbLTkzLjIzMjE4OCwgNDQuOTMwMjI4XSwgWy05My4yMzIxODIsIDQ0LjkyODU3OV0sIFstOTMuMjMyMTk4LCA0NC45MjY5ODQ5OTk5OTk5OTVdLCBbLTkzLjIzMjIxLCA0NC45MjUxNzFdLCBbLTkzLjIzMjIyOSwgNDQuOTIzMTE5XSwgWy05My4yMzIyMjcwMDAwMDAwMSwgNDQuOTIxNTY5XSwgWy05My4yMzIyMzksIDQ0LjkxOTc1NV0sIFstOTMuMjMyMjUxLCA0NC45MTgxMTRdLCBbLTkzLjIzMjI2LCA0NC45MTY1MTRdLCBbLTkzLjIzMjI3NSwgNDQuOTE0NDg0XSwgWy05My4yMzIyOTksIDQ0LjkxMjY4NDAwMDAwMDAwNl0sIFstOTMuMjMyMzExLCA0NC45MTA4NjJdLCBbLTkzLjIzMjMyNywgNDQuOTA5MDQzXSwgWy05My4yMzIzMzksIDQ0LjkwNzI0Nzk5OTk5OTk5Nl0sIFstOTMuMjMyMzg2LCA0NC45MDU0MjldLCBbLTkzLjIzMjQwMSwgNDQuOTAzNjA0XSwgWy05My4yMzI0MTMsIDQ0LjkwMTc5MDk5OTk5OTk5Nl0sIFstOTMuMjMyNDMzLCA0NC44OTk5ODJdLCBbLTkzLjIzMjQ1MywgNDQuODk4MTYxXSwgWy05My4yMzIxNDcsIDQ0Ljg5ODAyMV0sIFstOTMuMjI3NDE4LCA0NC44OTgwNjRdLCBbLTkzLjIyNTUyMywgNDQuODk4MDYyXSwgWy05My4yMjI4NjcwMDAwMDAwMSwgNDQuOTAwMDY3XSwgWy05My4yMjI4NTQsIDQ0LjkwMTY2NDAwMDAwMDAwNF0sIFstOTMuMjIyNjg4LCA0NC45MDE3XSwgWy05My4yMjA1NjgsIDQ0LjkwMTY5OV0sIFstOTMuMjE4MDI0LCA0NC45MDE3MDM5OTk5OTk5OTVdLCBbLTkzLjIxNTQ1MywgNDQuOTAxNjk1MDAwMDAwMDA0XSwgWy05My4yMTI4MzksIDQ0LjkwMTcxNl0sIFstOTMuMjEyNjMsIDQ0LjkwMzVdLCBbLTkzLjIxMjYyMSwgNDQuOTA1Mjk1XSwgWy05My4yMTAyNjIsIDQ0LjkwNTMzOF0sIFstOTMuMjA3NzE4LCA0NC45MDUzMzddLCBbLTkzLjIwNTE1LCA0NC45MDUzMzldLCBbLTkzLjIwMjM3MiwgNDQuOTAyMzc1XSwgWy05My4yMDQyMzgsIDQ0LjkwMTc1MTAwMDAwMDAwNF1dLCAidHlwZSI6ICJMaW5lU3RyaW5nIn0sICJpZCI6ICIwIiwgInByb3BlcnRpZXMiOiB7ImlkIjogMn0sICJ0eXBlIjogIkZlYXR1cmUifV0sICJ0eXBlIjogIkZlYXR1cmVDb2xsZWN0aW9uIn0pOwogICAgICAgIAogICAgCiAgICBnZW9fanNvbl85N2UxYTM1NTE5ZGU0NzIyYjA5NWJlYWJkMDc0YWQzZC5iaW5kVG9vbHRpcCgKICAgIGZ1bmN0aW9uKGxheWVyKXsKICAgIGxldCBkaXYgPSBMLkRvbVV0aWwuY3JlYXRlKCdkaXYnKTsKICAgIAogICAgbGV0IGhhbmRsZU9iamVjdCA9IGZlYXR1cmU9PnR5cGVvZihmZWF0dXJlKT09J29iamVjdCcgPyBKU09OLnN0cmluZ2lmeShmZWF0dXJlKSA6IGZlYXR1cmU7CiAgICBsZXQgZmllbGRzID0gWyJpZCJdOwogICAgbGV0IGFsaWFzZXMgPSBbIlBvc3NpYmxlIFRyaXA6Il07CiAgICBsZXQgdGFibGUgPSAnPHRhYmxlPicgKwogICAgICAgIFN0cmluZygKICAgICAgICBmaWVsZHMubWFwKAogICAgICAgICh2LGkpPT4KICAgICAgICBgPHRyPgogICAgICAgICAgICA8dGg+JHthbGlhc2VzW2ldfTwvdGg+CiAgICAgICAgICAgIAogICAgICAgICAgICA8dGQ+JHtoYW5kbGVPYmplY3QobGF5ZXIuZmVhdHVyZS5wcm9wZXJ0aWVzW3ZdKX08L3RkPgogICAgICAgIDwvdHI+YCkuam9pbignJykpCiAgICArJzwvdGFibGU+JzsKICAgIGRpdi5pbm5lckhUTUw9dGFibGU7CiAgICAKICAgIHJldHVybiBkaXYKICAgIH0KICAgICx7ImNsYXNzTmFtZSI6ICJmb2xpdW10b29sdGlwIiwgInN0aWNreSI6IHRydWV9KTsKICAgICAgICAgICAgICAgICAgICAgCiAgICAKICAgICAgICBmdW5jdGlvbiBnZW9fanNvbl8xZTFlMjhmZTg5MzA0YWM4YTJkMzQ3NjcxNmQ5Yjc4Yl9zdHlsZXIoZmVhdHVyZSkgewogICAgICAgICAgICBzd2l0Y2goZmVhdHVyZS5pZCkgewogICAgICAgICAgICAgICAgZGVmYXVsdDoKICAgICAgICAgICAgICAgICAgICByZXR1cm4geyJjb2xvciI6ICIjMkY0RjRGIn07CiAgICAgICAgICAgIH0KICAgICAgICB9CiAgICAgICAgZnVuY3Rpb24gZ2VvX2pzb25fMWUxZTI4ZmU4OTMwNGFjOGEyZDM0NzY3MTZkOWI3OGJfaGlnaGxpZ2h0ZXIoZmVhdHVyZSkgewogICAgICAgICAgICBzd2l0Y2goZmVhdHVyZS5pZCkgewogICAgICAgICAgICAgICAgZGVmYXVsdDoKICAgICAgICAgICAgICAgICAgICByZXR1cm4geyJjb2xvciI6ICIjMkY0RjRGIiwgImZpbGxPcGFjaXR5IjogMSwgIndlaWdodCI6IDV9OwogICAgICAgICAgICB9CiAgICAgICAgfQogICAgICAgIGZ1bmN0aW9uIGdlb19qc29uXzFlMWUyOGZlODkzMDRhYzhhMmQzNDc2NzE2ZDliNzhiX29uRWFjaEZlYXR1cmUoZmVhdHVyZSwgbGF5ZXIpIHsKICAgICAgICAgICAgbGF5ZXIub24oewogICAgICAgICAgICAgICAgbW91c2VvdXQ6IGZ1bmN0aW9uKGUpIHsKICAgICAgICAgICAgICAgICAgICBnZW9fanNvbl8xZTFlMjhmZTg5MzA0YWM4YTJkMzQ3NjcxNmQ5Yjc4Yi5yZXNldFN0eWxlKGUudGFyZ2V0KTsKICAgICAgICAgICAgICAgIH0sCiAgICAgICAgICAgICAgICBtb3VzZW92ZXI6IGZ1bmN0aW9uKGUpIHsKICAgICAgICAgICAgICAgICAgICBlLnRhcmdldC5zZXRTdHlsZShnZW9fanNvbl8xZTFlMjhmZTg5MzA0YWM4YTJkMzQ3NjcxNmQ5Yjc4Yl9oaWdobGlnaHRlcihlLnRhcmdldC5mZWF0dXJlKSk7CiAgICAgICAgICAgICAgICB9LAogICAgICAgICAgICAgICAgY2xpY2s6IGZ1bmN0aW9uKGUpIHsKICAgICAgICAgICAgICAgICAgICBtYXBfNWVjZTU3YmE1OTVmNGY4NGEwNmM1MjhhMTQ2YTUxY2UuZml0Qm91bmRzKGUudGFyZ2V0LmdldEJvdW5kcygpKTsKICAgICAgICAgICAgICAgIH0KICAgICAgICAgICAgfSk7CiAgICAgICAgfTsKICAgICAgICB2YXIgZ2VvX2pzb25fMWUxZTI4ZmU4OTMwNGFjOGEyZDM0NzY3MTZkOWI3OGIgPSBMLmdlb0pzb24obnVsbCwgewogICAgICAgICAgICAgICAgb25FYWNoRmVhdHVyZTogZ2VvX2pzb25fMWUxZTI4ZmU4OTMwNGFjOGEyZDM0NzY3MTZkOWI3OGJfb25FYWNoRmVhdHVyZSwKICAgICAgICAgICAgCiAgICAgICAgICAgICAgICBzdHlsZTogZ2VvX2pzb25fMWUxZTI4ZmU4OTMwNGFjOGEyZDM0NzY3MTZkOWI3OGJfc3R5bGVyLAogICAgICAgIH0pLmFkZFRvKG1hcF81ZWNlNTdiYTU5NWY0Zjg0YTA2YzUyOGExNDZhNTFjZSk7CgogICAgICAgIGZ1bmN0aW9uIGdlb19qc29uXzFlMWUyOGZlODkzMDRhYzhhMmQzNDc2NzE2ZDliNzhiX2FkZCAoZGF0YSkgewogICAgICAgICAgICBnZW9fanNvbl8xZTFlMjhmZTg5MzA0YWM4YTJkMzQ3NjcxNmQ5Yjc4Yi5hZGREYXRhKGRhdGEpOwogICAgICAgIH0KICAgICAgICAgICAgZ2VvX2pzb25fMWUxZTI4ZmU4OTMwNGFjOGEyZDM0NzY3MTZkOWI3OGJfYWRkKHsiYmJveCI6IFstOTMuMzIwMTYxLCA0NC44OTgwMjEsIC05My4yMDIzNzIsIDQ1LjA2MDU2N10sICJmZWF0dXJlcyI6IFt7ImJib3giOiBbLTkzLjMyMDE2MSwgNDQuODk4MDIxLCAtOTMuMjAyMzcyLCA0NS4wNjA1NjddLCAiZ2VvbWV0cnkiOiB7ImNvb3JkaW5hdGVzIjogW1stOTMuMzE4ODIxLCA0NS4wNTk3MThdLCBbLTkzLjMxOTY5MywgNDUuMDYwNTY3XSwgWy05My4zMjAxNjEsIDQ1LjA1OTE2OV0sIFstOTMuMzE2OTEzLCA0NS4wNTkxMl0sIFstOTMuMzEyMjQzMDAwMDAwMDEsIDQ1LjA1ODk3NF0sIFstOTMuMzA2MjI1LCA0NS4wNTg0NDRdLCBbLTkzLjMwNDE2NSwgNDUuMDU4NF0sIFstOTMuMzAxNjIyLCA0NS4wNTg0MDddLCBbLTkzLjI5OTAyLCA0NS4wNTg0MDhdLCBbLTkzLjI5NjQxOSwgNDUuMDU4MzY4XSwgWy05My4yOTM5MSwgNDUuMDU4Mzc1XSwgWy05My4yOTM5NDQsIDQ1LjA1NjcxOF0sIFstOTMuMjk0MDE5OTk5OTk5OTksIDQ1LjA1NDg3OV0sIFstOTMuMjk0MTI5LCA0NS4wNTEyNTIwMDAwMDAwMDVdLCBbLTkzLjI5MTY1MSwgNDUuMDUxMDY2XSwgWy05My4yOTE1ODEwMDAwMDAwMSwgNDUuMDQ5NDU4XSwgWy05My4yOTE1NiwgNDUuMDQ3NzIxXSwgWy05My4yOTE1NDcsIDQ1LjA0NTgzN10sIFstOTMuMjkxNTIzLCA0NS4wNDQxMDVdLCBbLTkzLjI5MTQ5Njk5OTk5OTk5LCA0NS4wNDIyMTJdLCBbLTkzLjI5MTUxMiwgNDUuMDQwNDI2MDAwMDAwMDA0XSwgWy05My4yOTE0ODMsIDQ1LjAzODU3NzAwMDAwMDAwNF0sIFstOTMuMjkxNDU3OTk5OTk5OTksIDQ1LjAzNjc4XSwgWy05My4yOTAyNDMsIDQ1LjAzNjY1MV0sIFstOTMuMjg3OTM3LCA0NS4wMzY4MzQ5OTk5OTk5OTZdLCBbLTkzLjI4ODE4OSwgNDUuMDM1MzE0XSwgWy05My4yODgxNTEsIDQ1LjAzMjQ2NDAwMDAwMDAwNF0sIFstOTMuMjg4MTA4LCA0NS4wMzE1ODMwMDAwMDAwMDVdLCBbLTkzLjI4ODExNDAwMDAwMDAxLCA0NS4wMzA0NjA5OTk5OTk5OTVdLCBbLTkzLjI4ODE2NywgNDUuMDI5NTA2XSwgWy05My4yODgxNTEsIDQ1LjAyNzcwNl0sIFstOTMuMjg4MTQ5LCA0NS4wMjU4OTVdLCBbLTkzLjI4ODEzNiwgNDUuMDI0MTM5XSwgWy05My4yODgxMTYsIDQ1LjAyMjI4N10sIFstOTMuMjg4MTEsIDQ1LjAyMDQ5M10sIFstOTMuMjg4MTAxLCA0NS4wMTg2NTJdLCBbLTkzLjI4ODA5MiwgNDUuMDE2ODE2XSwgWy05My4yODgwODcsIDQ1LjAxNTA2OF0sIFstOTMuMjg4MDg0LCA0NS4wMTI4MTZdLCBbLTkzLjI4ODA3MiwgNDUuMDA5Njc5OTk5OTk5OTk2XSwgWy05My4yODgwNjYsIDQ1LjAwNzgzMzAwMDAwMDAwNV0sIFstOTMuMjg4MDYxLCA0NS4wMDYwNThdLCBbLTkzLjI4ODA2LCA0NS4wMDQ5M10sIFstOTMuMjg4MDU3OTk5OTk5OTksIDQ1LjAwMzgxMV0sIFstOTMuMjg4MDU2MDAwMDAwMDEsIDQ1LjAwMjcxXSwgWy05My4yODgwNjYsIDQ1LjAwMTYxXSwgWy05My4yODgwNjIsIDQ0Ljk5OTIyOV0sIFstOTMuMjg4MDU3LCA0NC45OTc1NDldLCBbLTkzLjI4ODA2NSwgNDQuOTk0NDk1XSwgWy05My4yODgwNjk5OTk5OTk5OSwgNDQuOTkzMTk1XSwgWy05My4yODgwNjQsIDQ0Ljk5MjAyMjk5OTk5OTk5Nl0sIFstOTMuMjg1NjM1LCA0NC45ODU2MzFdLCBbLTkzLjI4NDA0MSwgNDQuOTg0NTA3XSwgWy05My4yNzk2NjYsIDQ0Ljk4MDIxXSwgWy05My4yNzc3OTYsIDQ0Ljk3Nzg3N10sIFstOTMuMjc2MDc2LCA0NC45NzcxODRdLCBbLTkzLjI3Mzc2NywgNDQuOTc2MTI4XSwgWy05My4yNzEwODI5OTk5OTk5OSwgNDQuOTc1MDA0XSwgWy05My4yNjgzMjEsIDQ0Ljk3Mzg1XSwgWy05My4yNjU0MTUsIDQ0Ljk3MzkwNl0sIFstOTMuMjY0NjAzMDAwMDAwMDEsIDQ0Ljk3NDg2XSwgWy05My4yNjM4MDgsIDQ0Ljk3NTg1XSwgWy05My4yNjI5ODEwMDAwMDAwMSwgNDQuOTc2ODEyXSwgWy05My4yNjEzODUsIDQ0Ljk3ODY5OF0sIFstOTMuMjYwMTExLCA0NC45NzgyNDhdLCBbLTkzLjI1NzQzOSwgNDQuOTc3MTIzOTk5OTk5OTk2XSwgWy05My4yNTQ3MTk5OTk5OTk5OSwgNDQuOTc1OTUzMDAwMDAwMDA0XSwgWy05My4yNTMzMjYsIDQ0Ljk3NTM3MV0sIFstOTMuMjQ3Mjg2LCA0NC45NzIzMDMwMDAwMDAwMDRdLCBbLTkzLjI0NzMzNiwgNDQuOTcxNDA5XSwgWy05My4yNDczMywgNDQuOTY5XSwgWy05My4yNDczNDY5OTk5OTk5OSwgNDQuOTY3NDg4XSwgWy05My4yNDU5NDgsIDQ0Ljk2NDExNl0sIFstOTMuMjQ1MzEzLCA0NC45NjI4NDRdLCBbLTkzLjI0NzM3NiwgNDQuOTU4OTcxMDAwMDAwMDA1XSwgWy05My4yNDc0MDYwMDAwMDAwMSwgNDQuOTU3MDk3XSwgWy05My4yNDc0MzcsIDQ0Ljk1NTM3NF0sIFstOTMuMjQ3NDYyLCA0NC45NTM4MzRdLCBbLTkzLjI0NzQ2MiwgNDQuOTUyMDQ1XSwgWy05My4yNDc0ODksIDQ0Ljk0ODQ2Ml0sIFstOTMuMjQ3NDkzLCA0NC45NDY2NjE5OTk5OTk5OTZdLCBbLTkzLjI0NzQ5NywgNDQuOTQ0ODQzXSwgWy05My4yNDc0NzMsIDQ0Ljk0MzAyNl0sIFstOTMuMjQ3NDU1LCA0NC45NDE0MjcwMDAwMDAwMDRdLCBbLTkzLjI0NzIzLCA0NC45Mzk0OThdLCBbLTkzLjI0NDkwMSwgNDQuOTM5NDk1XSwgWy05My4yNDIzOTcsIDQ0LjkzOTQ4MV0sIFstOTMuMjM5MDQ4LCA0NC45Mzk0Nzk5OTk5OTk5OTZdLCBbLTkzLjIzODk2OCwgNDQuOTM3ODE2OTk5OTk5OTk1XSwgWy05My4yMzg5NjQsIDQ0LjkzNjAwOTAwMDAwMDAwNl0sIFstOTMuMjM4OTYyLCA0NC45MzQ2MzVdLCBbLTkzLjIzNzMxNCwgNDQuOTM0MDU5MDAwMDAwMDA1XSwgWy05My4yMzQ3OCwgNDQuOTM0MDYyXSwgWy05My4yMzIyNDIsIDQ0LjkzNDA2MV0sIFstOTMuMjI5NzMxLCA0NC45MzQ4NzAwMDAwMDAwMDRdLCBbLTkzLjIzMjE4OSwgNDQuOTMyMzkwMDAwMDAwMDA1XSwgWy05My4yMzIxODgsIDQ0LjkzMDIyOF0sIFstOTMuMjMyMTgyLCA0NC45Mjg1NzldLCBbLTkzLjIzMjE5OCwgNDQuOTI2OTg0OTk5OTk5OTk1XSwgWy05My4yMzIyMSwgNDQuOTI1MTcxXSwgWy05My4yMzIyMjksIDQ0LjkyMzExOV0sIFstOTMuMjMyMjI3MDAwMDAwMDEsIDQ0LjkyMTU2OV0sIFstOTMuMjMyMjM5LCA0NC45MTk3NTVdLCBbLTkzLjIzMjI1MSwgNDQuOTE4MTE0XSwgWy05My4yMzIyNiwgNDQuOTE2NTE0XSwgWy05My4yMzIyNzUsIDQ0LjkxNDQ4NF0sIFstOTMuMjMyMjk5LCA0NC45MTI2ODQwMDAwMDAwMDZdLCBbLTkzLjIzMjMxMSwgNDQuOTEwODYyXSwgWy05My4yMzIzMjcsIDQ0LjkwOTA0M10sIFstOTMuMjMyMzM5LCA0NC45MDcyNDc5OTk5OTk5OTZdLCBbLTkzLjIzMjM4NiwgNDQuOTA1NDI5XSwgWy05My4yMzI0MDEsIDQ0LjkwMzYwNF0sIFstOTMuMjMyNDEzLCA0NC45MDE3OTA5OTk5OTk5OTZdLCBbLTkzLjIzMjQzMywgNDQuODk5OTgyXSwgWy05My4yMzI0NTMsIDQ0Ljg5ODE2MV0sIFstOTMuMjMyMTQ3LCA0NC44OTgwMjFdLCBbLTkzLjIyNzQxOCwgNDQuODk4MDY0XSwgWy05My4yMjU1MjMsIDQ0Ljg5ODA2Ml0sIFstOTMuMjIyODY3MDAwMDAwMDEsIDQ0LjkwMDA2N10sIFstOTMuMjIyODU0LCA0NC45MDE2NjQwMDAwMDAwMDRdLCBbLTkzLjIyMjY4OCwgNDQuOTAxN10sIFstOTMuMjIwNTY4LCA0NC45MDE2OTldLCBbLTkzLjIxODAyNCwgNDQuOTAxNzAzOTk5OTk5OTk1XSwgWy05My4yMTU0NTMsIDQ0LjkwMTY5NTAwMDAwMDAwNF0sIFstOTMuMjEyODM5LCA0NC45MDE3MTZdLCBbLTkzLjIxMjYzLCA0NC45MDM1XSwgWy05My4yMTI2MjEsIDQ0LjkwNTI5NV0sIFstOTMuMjEwMjYyLCA0NC45MDUzMzhdLCBbLTkzLjIwNzcxOCwgNDQuOTA1MzM3XSwgWy05My4yMDUxNSwgNDQuOTA1MzM5XSwgWy05My4yMDIzNzIsIDQ0LjkwMjM3NV0sIFstOTMuMjA0MjM4LCA0NC45MDE3NTEwMDAwMDAwMDRdXSwgInR5cGUiOiAiTGluZVN0cmluZyJ9LCAiaWQiOiAiMCIsICJwcm9wZXJ0aWVzIjogeyJpZCI6IDJ9LCAidHlwZSI6ICJGZWF0dXJlIn1dLCAidHlwZSI6ICJGZWF0dXJlQ29sbGVjdGlvbiJ9KTsKICAgICAgICAKICAgIAogICAgZ2VvX2pzb25fMWUxZTI4ZmU4OTMwNGFjOGEyZDM0NzY3MTZkOWI3OGIuYmluZFRvb2x0aXAoCiAgICBmdW5jdGlvbihsYXllcil7CiAgICBsZXQgZGl2ID0gTC5Eb21VdGlsLmNyZWF0ZSgnZGl2Jyk7CiAgICAKICAgIGxldCBoYW5kbGVPYmplY3QgPSBmZWF0dXJlPT50eXBlb2YoZmVhdHVyZSk9PSdvYmplY3QnID8gSlNPTi5zdHJpbmdpZnkoZmVhdHVyZSkgOiBmZWF0dXJlOwogICAgbGV0IGZpZWxkcyA9IFsiaWQiXTsKICAgIGxldCBhbGlhc2VzID0gWyJQb3NzaWJsZSBUcmlwOiJdOwogICAgbGV0IHRhYmxlID0gJzx0YWJsZT4nICsKICAgICAgICBTdHJpbmcoCiAgICAgICAgZmllbGRzLm1hcCgKICAgICAgICAodixpKT0+CiAgICAgICAgYDx0cj4KICAgICAgICAgICAgPHRoPiR7YWxpYXNlc1tpXX08L3RoPgogICAgICAgICAgICAKICAgICAgICAgICAgPHRkPiR7aGFuZGxlT2JqZWN0KGxheWVyLmZlYXR1cmUucHJvcGVydGllc1t2XSl9PC90ZD4KICAgICAgICA8L3RyPmApLmpvaW4oJycpKQogICAgKyc8L3RhYmxlPic7CiAgICBkaXYuaW5uZXJIVE1MPXRhYmxlOwogICAgCiAgICByZXR1cm4gZGl2CiAgICB9CiAgICAseyJjbGFzc05hbWUiOiAiZm9saXVtdG9vbHRpcCIsICJzdGlja3kiOiB0cnVlfSk7CiAgICAgICAgICAgICAgICAgICAgIAogICAgCiAgICAgICAgICAgIHZhciBsYXllcl9jb250cm9sXzQyMjJlNWE3OWE1MDQyNjViY2EyMGVhOWZlYmFlYjM4ID0gewogICAgICAgICAgICAgICAgYmFzZV9sYXllcnMgOiB7CiAgICAgICAgICAgICAgICAgICAgImNhcnRvZGJkYXJrX21hdHRlciIgOiB0aWxlX2xheWVyXzZlYWZkNTMxOGQ2NzQxN2ZiZjNhYTY0ZmZkMzhmMDhkLAogICAgICAgICAgICAgICAgfSwKICAgICAgICAgICAgICAgIG92ZXJsYXlzIDogIHsKICAgICAgICAgICAgICAgICAgICAiUG9zc2libGUgVHJpcDogMSIgOiBnZW9fanNvbl85N2UxYTM1NTE5ZGU0NzIyYjA5NWJlYWJkMDc0YWQzZCwKICAgICAgICAgICAgICAgICAgICAiUG9zc2libGUgVHJpcDogMiIgOiBnZW9fanNvbl8xZTFlMjhmZTg5MzA0YWM4YTJkMzQ3NjcxNmQ5Yjc4YiwKICAgICAgICAgICAgICAgIH0sCiAgICAgICAgICAgIH07CiAgICAgICAgICAgIEwuY29udHJvbC5sYXllcnMoCiAgICAgICAgICAgICAgICBsYXllcl9jb250cm9sXzQyMjJlNWE3OWE1MDQyNjViY2EyMGVhOWZlYmFlYjM4LmJhc2VfbGF5ZXJzLAogICAgICAgICAgICAgICAgbGF5ZXJfY29udHJvbF80MjIyZTVhNzlhNTA0MjY1YmNhMjBlYTlmZWJhZWIzOC5vdmVybGF5cywKICAgICAgICAgICAgICAgIHsiYXV0b1pJbmRleCI6IHRydWUsICJjb2xsYXBzZWQiOiB0cnVlLCAicG9zaXRpb24iOiAidG9wcmlnaHQifQogICAgICAgICAgICApLmFkZFRvKG1hcF81ZWNlNTdiYTU5NWY0Zjg0YTA2YzUyOGExNDZhNTFjZSk7CiAgICAgICAgCjwvc2NyaXB0Pg== onload=\"this.contentDocument.open();this.contentDocument.write(atob(this.getAttribute('data-html')));this.contentDocument.close();\" allowfullscreen webkitallowfullscreen mozallowfullscreen></iframe></div></div>"
      ],
      "text/plain": [
       "<folium.folium.Map at 0x11ad9ddc0>"
      ]
     },
     "execution_count": 10,
     "metadata": {},
     "output_type": "execute_result"
    }
   ],
   "source": [
    "visualization()"
   ]
  },
  {
   "cell_type": "markdown",
   "metadata": {},
   "source": [
    "This map shows an individual possible trip and individual trip route. The locations of the individual original place, geton stop, getoff stop, and boarding place. "
   ]
  }
 ],
 "metadata": {
  "kernelspec": {
   "display_name": "Python 3",
   "language": "python",
   "name": "python3"
  },
  "language_info": {
   "codemirror_mode": {
    "name": "ipython",
    "version": 3
   },
   "file_extension": ".py",
   "mimetype": "text/x-python",
   "name": "python",
   "nbconvert_exporter": "python",
   "pygments_lexer": "ipython3",
   "version": "3.8.3"
  },
  "toc": {
   "base_numbering": 1,
   "nav_menu": {},
   "number_sections": false,
   "sideBar": true,
   "skip_h1_title": false,
   "title_cell": "Table of Contents",
   "title_sidebar": "Contents",
   "toc_cell": false,
   "toc_position": {},
   "toc_section_display": true,
   "toc_window_display": false
  },
  "varInspector": {
   "cols": {
    "lenName": 16,
    "lenType": 16,
    "lenVar": 40
   },
   "kernels_config": {
    "python": {
     "delete_cmd_postfix": "",
     "delete_cmd_prefix": "del ",
     "library": "var_list.py",
     "varRefreshCmd": "print(var_dic_list())"
    },
    "r": {
     "delete_cmd_postfix": ") ",
     "delete_cmd_prefix": "rm(",
     "library": "var_list.r",
     "varRefreshCmd": "cat(var_dic_list()) "
    }
   },
   "types_to_exclude": [
    "module",
    "function",
    "builtin_function_or_method",
    "instance",
    "_Feature"
   ],
   "window_display": false
  }
 },
 "nbformat": 4,
 "nbformat_minor": 2
}
